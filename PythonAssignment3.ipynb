{
 "cells": [
  {
   "cell_type": "code",
   "execution_count": 12,
   "metadata": {},
   "outputs": [
    {
     "name": "stdout",
     "output_type": "stream",
     "text": [
      "Incorrect division operation to divide by 0\n"
     ]
    }
   ],
   "source": [
    "#Task-1-Q:1: Write a function to compute 5/0 and use try/except to catch the exceptions. \n",
    "\n",
    "def compute():\n",
    "    return 5/0\n",
    "try:\n",
    "    return 5/0\n",
    "except ZeroDivisionError as ze:\n",
    "    print(\"Incorrect division operation to divide by 0\")\n"
   ]
  },
  {
   "cell_type": "code",
   "execution_count": 19,
   "metadata": {},
   "outputs": [
    {
     "name": "stdout",
     "output_type": "stream",
     "text": [
      "Americans play Baseball\n",
      "Americans play Cricket\n",
      "Americans watch Baseball\n",
      "Americans watch Cricket\n",
      "Indians play Baseball\n",
      "Indians play Cricket\n",
      "Indians watch Baseball\n",
      "Indians watch Cricket\n",
      "\n",
      "\n",
      "second method:\n",
      "\n",
      "\n",
      "Americans play Baseball\n",
      "Americans play Cricket\n",
      "Americans watch Baseball\n",
      "Americans watch Cricket\n",
      "Indians play Baseball\n",
      "Indians play Cricket\n",
      "Indians watch Baseball\n",
      "Indians watch Cricket\n"
     ]
    }
   ],
   "source": [
    "#Q2:  Implement a Python program to generate all sentences where subject is in [\"Americans\",  \"Indians\"] and verb is in [\"Play\", \"watch\"] and the object is in [\"Baseball\",\"cricket\"].  \n",
    " \n",
    "subjects=[\"Americans\",\"Indians\"]  \n",
    "verbs=[\"play\",\"watch\"]  \n",
    "objects=[\"Baseball\",\"Cricket\"] \n",
    "\n",
    "for i in subjects:\n",
    "    for j in verbs:\n",
    "        for k in objects:\n",
    "            print(i+\" \"+j+\" \"+k)\n",
    "\n",
    "print(\"\\n\\nsecond method:\\n\\n\")\n",
    "newlist = [(i+\" \"+j+\" \"+k) for i in subjects for j in verbs for k in objects]\n",
    "for sent in newlist:\n",
    " print (sent)"
   ]
  },
  {
   "cell_type": "code",
   "execution_count": 37,
   "metadata": {},
   "outputs": [
    {
     "name": "stdout",
     "output_type": "stream",
     "text": [
      "Matrix in Increasing order:\n",
      "  [[ 1  1  1]\n",
      " [ 1  2  4]\n",
      " [ 1  3  9]\n",
      " [ 1  4 16]]\n",
      "\n",
      "Matrix in Decreasing order:\n",
      "  [[ 1  1  1]\n",
      " [ 4  2  1]\n",
      " [ 9  3  1]\n",
      " [16  4  1]]\n"
     ]
    }
   ],
   "source": [
    "#Task 2 Q1: Write a function so that the columns of the output matrix are powers of the input vector.   \n",
    "#The order of the powers is determined by the increasing boolean argument. Specifically, when increasing is False, the i-th output column is the input vector raised element-wise to the power of N - i - 1.\n",
    "\n",
    "\n",
    "import numpy as np\n",
    "\n",
    "def vendormat(inputarray,n,increasing):\n",
    "    if not increasing:\n",
    "        outmatx=np.array([x**(n-1-i) for x in inputarray for i in range(n)]).reshape(inputarray.size,n)\n",
    "    \n",
    "    else:\n",
    "        outmatx=np.array([x**(i) for x in inputarray for i in range(n)]).reshape(inputarray.size,n)\n",
    "    \n",
    "    return outmatx\n",
    "\n",
    "arr=np.array([1,2,3,4])\n",
    "n=3\n",
    "outmat=vendormat(arr,n,True)\n",
    "outmat1=vendormat(arr,n,False)\n",
    "\n",
    "print(\"Matrix in Increasing order:\\n \",outmat)\n",
    "print(\"\\nMatrix in Decreasing order:\\n \",outmat1)\n",
    "\n",
    "\n",
    "\n"
   ]
  },
  {
   "cell_type": "code",
   "execution_count": null,
   "metadata": {},
   "outputs": [],
   "source": []
  },
  {
   "cell_type": "code",
   "execution_count": null,
   "metadata": {},
   "outputs": [],
   "source": []
  },
  {
   "cell_type": "code",
   "execution_count": null,
   "metadata": {},
   "outputs": [],
   "source": []
  },
  {
   "cell_type": "code",
   "execution_count": null,
   "metadata": {},
   "outputs": [],
   "source": []
  },
  {
   "cell_type": "code",
   "execution_count": null,
   "metadata": {},
   "outputs": [],
   "source": []
  }
 ],
 "metadata": {
  "kernelspec": {
   "display_name": "Python 3",
   "language": "python",
   "name": "python3"
  },
  "language_info": {
   "codemirror_mode": {
    "name": "ipython",
    "version": 3
   },
   "file_extension": ".py",
   "mimetype": "text/x-python",
   "name": "python",
   "nbconvert_exporter": "python",
   "pygments_lexer": "ipython3",
   "version": "3.7.1"
  }
 },
 "nbformat": 4,
 "nbformat_minor": 2
}

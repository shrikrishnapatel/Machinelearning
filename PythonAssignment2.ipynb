{
 "cells": [
  {
   "cell_type": "code",
   "execution_count": 5,
   "metadata": {},
   "outputs": [],
   "source": [
    "#task 1\n",
    "#Q1.1 ) Write a Python Program to implement your own myreduce() function which works exactly like Python's built-in function reduce()\n",
    "\n",
    "def myreduce(anyfunc, seq):\n",
    "  res = seq[0]\n",
    "  for i in seq[1:]:\n",
    "   res = anyfunc(res, i)\n",
    "   print(res)\n",
    "  return res"
   ]
  },
  {
   "cell_type": "code",
   "execution_count": 6,
   "metadata": {},
   "outputs": [
    {
     "name": "stdout",
     "output_type": "stream",
     "text": [
      "10\n",
      "12\n",
      "20\n",
      "30\n"
     ]
    },
    {
     "data": {
      "text/plain": [
       "30"
      ]
     },
     "execution_count": 6,
     "metadata": {},
     "output_type": "execute_result"
    }
   ],
   "source": [
    "myreduce(lambda a,b: a+b,[4,6,2,8,10])"
   ]
  },
  {
   "cell_type": "code",
   "execution_count": 7,
   "metadata": {},
   "outputs": [],
   "source": [
    "#Q1.2)Write a Python program to implement your own myfilter() function which works exactly like Python's built-in function filter()\n",
    "\n",
    "def myfilter(anyfunc,seq):\n",
    "    res=[]\n",
    "    for i in seq:        \n",
    "        if anyfunc(i):\n",
    "            res.append(i)\n",
    "    return res\n",
    "        \n",
    "def oddcheck(x):\n",
    "    return x%2!=0"
   ]
  },
  {
   "cell_type": "code",
   "execution_count": 8,
   "metadata": {},
   "outputs": [
    {
     "data": {
      "text/plain": [
       "[1, 3, 5]"
      ]
     },
     "execution_count": 8,
     "metadata": {},
     "output_type": "execute_result"
    }
   ],
   "source": [
    "myfilter(oddcheck,[1,2,3,4,5])"
   ]
  },
  {
   "cell_type": "code",
   "execution_count": null,
   "metadata": {},
   "outputs": [],
   "source": [
    "#Q.2.Implement List comprehensions to produce the following lists.  \n",
    "#Write List comprehensions to produce the following Lists  \n",
    "#['A', 'C', 'A', 'D', 'G', 'I', ’L’, ‘ D’]  \n",
    "#['x', 'xx', 'xxx', 'xxxx', 'y', 'yy', 'yyy', 'yyyy', 'z', 'zz', 'zzz', 'zzzz'] \n",
    "#['x', 'y', 'z', 'xx', 'yy', 'zz', 'xx', 'yy', 'zz', 'xxxx', 'yyyy', 'zzzz'] \n",
    "#[[2], [3], [4], [3], [4], [5], [4], [5], [6]] \n",
    "#[[2, 3, 4, 5], [3, 4, 5, 6], [4, 5, 6, 7], [5, 6, 7, 8]] \n",
    "#[(1, 1), (2, 1), (3, 1), (1, 2), (2, 2), (3, 2), (1, 3), (2, 3), (3, 3)] \n",
    " \n",
    " "
   ]
  },
  {
   "cell_type": "code",
   "execution_count": 50,
   "metadata": {},
   "outputs": [
    {
     "name": "stdout",
     "output_type": "stream",
     "text": [
      "['A', 'C', 'A', 'D', 'G', 'I', 'L', 'D']\n",
      "['x', 'xx', 'xxx', 'xxxx', 'y', 'yy', 'yyy', 'yyyy', 'z', 'zz', 'zzz', 'zzzz']\n",
      "['x', 'y', 'z', 'xx', 'yy', 'zz', 'xxx', 'yyy', 'zzz', 'xxxx', 'yyyy', 'zzzz']\n",
      "[[2], [3], [4], [3], [4], [5], [4], [5], [6]]\n",
      "[[2, 3, 4, 5], [3, 4, 5, 6], [4, 5, 6, 7], [5, 6, 7, 8]]\n",
      "[(1, 1), (2, 1), (3, 1), (1, 2), (2, 2), (3, 2), (1, 3), (2, 3), (3, 3)]\n"
     ]
    }
   ],
   "source": [
    "mylist=[i for i in 'ACADGILD']\n",
    "print(mylist)\n",
    "\n",
    "l=[i*j for j in ['x','y','z'] for i in [1,2,3,4]]\n",
    "print(l)\n",
    "\n",
    "l1=[i*j for j in  [1,2,3,4] for i in['x','y','z']]\n",
    "print(l1)\n",
    "\n",
    "num='234345456'\n",
    "l2=[[int(i)] for i in num]\n",
    "print(l2)\n",
    "\n",
    "num='1234'\n",
    "l3=[[int(i)+int(j) for j in num] for i in num]\n",
    "print(l3)\n",
    "\n",
    "num='123'\n",
    "l3=[(int(i),int(j)) for j in num for i in num]\n",
    "print(l3)"
   ]
  },
  {
   "cell_type": "code",
   "execution_count": 54,
   "metadata": {},
   "outputs": [
    {
     "name": "stdout",
     "output_type": "stream",
     "text": [
      "longest word in list is: hsgfhs\n"
     ]
    }
   ],
   "source": [
    "#Q3)  Implement a function longestWord() that takes a list of words and returns the longest one. \n",
    "def longestword(l):\n",
    "    prevwordcount=0\n",
    "    longword=''\n",
    "    for i in l:\n",
    "        curwordcount=len(i)\n",
    "        if curwordcount>prevwordcount:\n",
    "            prevwordcount=curwordcount\n",
    "            longword=i\n",
    "    return longword\n",
    "        \n",
    "l1=['aa','aaab','abc','hsgfhs']\n",
    "longest=longestword(l1)\n",
    "print('longest word in list is:', longest)\n"
   ]
  },
  {
   "cell_type": "code",
   "execution_count": 63,
   "metadata": {},
   "outputs": [
    {
     "name": "stdout",
     "output_type": "stream",
     "text": [
      "Enter the 3 sides length of a triangle: 10 9 8\n",
      "area of the triangle is:  34.197039345533994\n"
     ]
    }
   ],
   "source": [
    "#Task 2:\n",
    "#1.1  Write a Python Program(with class concepts) to find the area of the triangle using the below formula. \n",
    "#area = (s*(s-a)*(s-b)*(s-c)) ** 0.5\n",
    "\n",
    "# Function to take the length of the sides of triangle from user should be defined in the parent class and function to calculate the area should be defined in subclass.\n",
    "\n",
    "class area():\n",
    "    def __init__(self):\n",
    "        a, b, c=input(\"Enter the 3 sides length of a triangle: \").split()\n",
    "        self.a=int(a)\n",
    "        self.b=int(b)\n",
    "        self.c=int(c)\n",
    "\n",
    "class triangle(area):\n",
    "    def __init__(self,*args):\n",
    "        super(triangle,self).__init__(*args)\n",
    "        a=self.a\n",
    "        b=self.b\n",
    "        c=self.c\n",
    "        s=(a+b+c)/2\n",
    "        ar = (s*(s-a)*(s-b)*(s-c)) ** 0.5\n",
    "        print(\"area of the triangle is: \", ar)\n",
    "\n",
    "t=triangle()"
   ]
  },
  {
   "cell_type": "code",
   "execution_count": 66,
   "metadata": {},
   "outputs": [
    {
     "name": "stdout",
     "output_type": "stream",
     "text": [
      "Enter the length to identify the long words from the list: 3\n",
      "word list longer than  3  is: ['aaab', 'hsgfhs', 'asdkjhhf']\n"
     ]
    }
   ],
   "source": [
    "#Q1.2 Write a function filter_long_words() that takes a list of words and an integer n and returns the list of words that are longer than n.\n",
    "\n",
    "def filter_long_words(l,n):\n",
    "    longword=[]\n",
    "    for i in l:\n",
    "        curwordcount=len(i)\n",
    "        if curwordcount>n:         \n",
    "            longword.append(i)\n",
    "    return longword\n",
    "        \n",
    "l1=['aa','aaab','abc','hsgfhs','asdkjhhf']\n",
    "n=int(input(\"Enter the length to identify the long words from the list: \"))\n",
    "longest=filter_long_words(l1,n)\n",
    "print('word list longer than ',n,' is:', longest)\n",
    "\n"
   ]
  },
  {
   "cell_type": "code",
   "execution_count": 67,
   "metadata": {},
   "outputs": [
    {
     "name": "stdout",
     "output_type": "stream",
     "text": [
      "[2, 4, 3, 6, 8]\n"
     ]
    }
   ],
   "source": [
    "#Q 2.1 Write a Python program using function concept that maps  list of words into a list of integers representing the lengths of the corresponding words. \n",
    " #Hi n t:  If a list [ ab,cde,erty] is passed on to the python function output should come as [2,3,4] Here 2,3 and 4 are the lengths of the words in the list\n",
    "\n",
    "def wordcnt(l):\n",
    "    return len(l)\n",
    "        \n",
    "l1=['aa','aaab','abc','hsgfhs','asdkjhhf']\n",
    "l2=list(map(wordcnt,l1))\n",
    "print(l2)"
   ]
  },
  {
   "cell_type": "code",
   "execution_count": 68,
   "metadata": {},
   "outputs": [
    {
     "name": "stdout",
     "output_type": "stream",
     "text": [
      "Enter a character to check if it is a vowel: A\n"
     ]
    },
    {
     "data": {
      "text/plain": [
       "True"
      ]
     },
     "execution_count": 68,
     "metadata": {},
     "output_type": "execute_result"
    }
   ],
   "source": [
    " #Q 2.2 Write a Python function which takes a character (i.e. a string of length 1) and returns True if it is a vowel, False otherwise.\n",
    "\n",
    "def isvowel(char):\n",
    "    l1=['a','e','i','o','u']\n",
    "    if char in l1:\n",
    "        return True\n",
    "    else:\n",
    "        return False\n",
    "        \n",
    "str=input(\"Enter a character to check if it is a vowel: \")\n",
    "isvowel(str.lower())\n",
    "       "
   ]
  }
 ],
 "metadata": {
  "kernelspec": {
   "display_name": "Python 3",
   "language": "python",
   "name": "python3"
  },
  "language_info": {
   "codemirror_mode": {
    "name": "ipython",
    "version": 3
   },
   "file_extension": ".py",
   "mimetype": "text/x-python",
   "name": "python",
   "nbconvert_exporter": "python",
   "pygments_lexer": "ipython3",
   "version": "3.7.1"
  }
 },
 "nbformat": 4,
 "nbformat_minor": 2
}
